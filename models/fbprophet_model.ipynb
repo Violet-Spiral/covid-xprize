{
  "nbformat": 4,
  "nbformat_minor": 0,
  "metadata": {
    "colab": {
      "name": "fbprophet_model.ipynb",
      "private_outputs": true,
      "provenance": [],
      "collapsed_sections": []
    },
    "kernelspec": {
      "name": "python3",
      "display_name": "Python 3"
    }
  },
  "cells": [
    {
      "cell_type": "code",
      "metadata": {
        "id": "Cyu2D1H7fMwq"
      },
      "source": [
        "import fbprophet as pr\r\n",
        "import pandas as pd\r\n",
        "import numpy as np\r\n",
        "import matplotlib.pyplot as plt\r\n",
        "import folium\r\n",
        "from sklearn.metrics import mean_squared_error\r\n",
        "from statsmodels.tsa.statespace.sarimax import SARIMAX\r\n"
      ],
      "execution_count": null,
      "outputs": []
    },
    {
      "cell_type": "code",
      "metadata": {
        "id": "qFa62u-EfRaF"
      },
      "source": [
        "def get_covid_data():\r\n",
        "    \r\n",
        "    #get the latest data from OxCGRT\r\n",
        "    DATA_URL = 'https://raw.githubusercontent.com/OxCGRT/covid-policy-tracker/master/data/OxCGRT_latest.csv'\r\n",
        "    full_df = pd.read_csv(DATA_URL,\r\n",
        "                    parse_dates=['Date'],\r\n",
        "                    encoding=\"ISO-8859-1\",\r\n",
        "                    dtype={\"RegionName\": str},\r\n",
        "                    error_bad_lines=False)\r\n",
        "\r\n",
        "    #add new cases and new deaths columns\r\n",
        "\r\n",
        "    full_df['NewCases'] = np.nan\r\n",
        "    full_df['NewDeaths'] = np.nan\r\n",
        "    \r\n",
        "    for state in full_df[(full_df['Jurisdiction'] == 'STATE_TOTAL')]['RegionName'].unique():\r\n",
        "        state_inds = (full_df['Jurisdiction'] == 'STATE_TOTAL') & (full_df['RegionName'] == state)\r\n",
        "        full_df.loc[state_inds, 'NewCases'] = full_df.loc[state_inds, 'ConfirmedCases'].diff().fillna(0)\r\n",
        "        full_df.loc[state_inds, 'NewDeaths'] = full_df.loc[state_inds, 'ConfirmedDeaths'].diff().fillna(0)\r\n",
        "\r\n",
        "    for country in full_df[(full_df['Jurisdiction'] == 'NAT_TOTAL')]['CountryName'].unique():\r\n",
        "        nat_inds = (full_df['Jurisdiction'] == 'NAT_TOTAL') & (full_df['CountryName'] == country)\r\n",
        "        full_df.loc[nat_inds, 'NewCases'] = full_df.loc[nat_inds, 'ConfirmedCases'].diff().fillna(0)\r\n",
        "        full_df.loc[nat_inds, 'NewDeaths'] = full_df.loc[nat_inds, 'ConfirmedDeaths'].diff().fillna(0)\r\n",
        "\r\n",
        "    return full_df\r\n",
        "\r\n",
        "def split_data(full_df):\r\n",
        "\r\n",
        "    state_df = full_df[full_df['Jurisdiction'] == 'STATE_TOTAL']\r\n",
        "    country_df = full_df[full_df['Jurisdiction'] == 'NAT_TOTAL']\r\n",
        "    return (state_df, country_df)"
      ],
      "execution_count": null,
      "outputs": []
    },
    {
      "cell_type": "code",
      "metadata": {
        "id": "M5AWDBrtgQwp"
      },
      "source": [
        "full_df = get_covid_data()"
      ],
      "execution_count": null,
      "outputs": []
    },
    {
      "cell_type": "code",
      "metadata": {
        "id": "qRkR67TPgjtV"
      },
      "source": [
        "division = 'NAT_TOTAL'\r\n",
        "region = 'United States'\r\n",
        "\r\n",
        "df = full_df[(full_df['Jurisdiction'] == division) & (full_df['CountryName'] == region)][['Date','NewDeaths','NewCases']][:-1]\r\n",
        "df"
      ],
      "execution_count": null,
      "outputs": []
    },
    {
      "cell_type": "code",
      "metadata": {
        "id": "cPdGc2UHjOP_"
      },
      "source": [
        "train_df = df[df['Date'] < '2020-12-01'][['Date','NewCases']]\r\n",
        "test_df = df[df['Date'] >= '2020-12-01'][['Date','NewCases']]\r\n",
        "train_df.columns = ['ds','y']\r\n",
        "test_df.columns = ['ds','y']"
      ],
      "execution_count": null,
      "outputs": []
    },
    {
      "cell_type": "code",
      "metadata": {
        "id": "9x_vJL-mwLZT"
      },
      "source": [
        "def mean_percent_error(y_test, y_hat):\r\n",
        "    error = np.abs(y_test - y_hat)\r\n",
        "    percent_error = error/y_test\r\n",
        "    mean_percent_error = percent_error.sum() / len(y_test)\r\n",
        "    return mean_percent_error"
      ],
      "execution_count": null,
      "outputs": []
    },
    {
      "cell_type": "code",
      "metadata": {
        "id": "CSdz8ks7oPhS"
      },
      "source": [
        "m = pr.Prophet(seasonality_mode = 'multiplicative')\r\n",
        "m.add_country_holidays(country_name='US')\r\n",
        "# m.add_regressor('NewCases')\r\n",
        "m.fit(train_df)\r\n",
        "future = m.make_future_dataframe(periods=len(test_df))\r\n",
        "forecast = m.predict(future)\r\n"
      ],
      "execution_count": null,
      "outputs": []
    },
    {
      "cell_type": "code",
      "metadata": {
        "id": "rcqwCHW6tQkr"
      },
      "source": [
        "model2 = SARIMAX(train_df[train_df['ds'] > '2020-03-31'].set_index('ds'), order =(1,1,4), seasonal_order = (4,0,0,7),\r\n",
        "                                       freq = 'D')\r\n",
        "fit_model2 = model2.fit(maxiter = 200, disp = False)\r\n",
        "yhat = fit_model2.forecast(len(test_df))\r\n"
      ],
      "execution_count": null,
      "outputs": []
    },
    {
      "cell_type": "code",
      "metadata": {
        "id": "R5Kod2AlsKzV"
      },
      "source": [
        "prophet_mpse = mean_percent_error(test_df['y'].values, forecast['yhat'][-len(test_df):].values)\r\n",
        "print(f'Prophet MPSE = {prophet_mpse}')\r\n",
        "sarmimax_mpse = mean_percent_error(test_df['y'].values, yhat)\r\n",
        "print(f'SARIMAX MPSE = {sarmimax_mpse}')"
      ],
      "execution_count": null,
      "outputs": []
    },
    {
      "cell_type": "code",
      "metadata": {
        "id": "Hbvde3gcj4m3"
      },
      "source": [
        "fig, ax = plt.subplots(figsize = (20,10))\r\n",
        "m.plot(forecast, ax = ax,)\r\n",
        "ax.scatter(test_df['ds'],test_df['y'], marker = '.', c = 'red')"
      ],
      "execution_count": null,
      "outputs": []
    },
    {
      "cell_type": "code",
      "metadata": {
        "id": "3m0y0gOmr0hY"
      },
      "source": [
        "import plotly\r\n",
        "import plotly.express as px"
      ],
      "execution_count": null,
      "outputs": []
    },
    {
      "cell_type": "code",
      "metadata": {
        "id": "Q2BbibYUscyo"
      },
      "source": [
        "from fbprophet.plot import plot_plotly, plot_components_plotly\r\n",
        "\r\n",
        "plot_plotly(m, forecast, changepoints = True)\r\n",
        "px.scatter(x=test_df['ds'], y=test_df['y'])"
      ],
      "execution_count": null,
      "outputs": []
    },
    {
      "cell_type": "code",
      "metadata": {
        "id": "YUNYraIesl4P"
      },
      "source": [
        "plot_components_plotly(m, forecast)"
      ],
      "execution_count": null,
      "outputs": []
    },
    {
      "cell_type": "code",
      "metadata": {
        "id": "ng4JGp7M5KK8"
      },
      "source": [
        ""
      ],
      "execution_count": null,
      "outputs": []
    }
  ]
}