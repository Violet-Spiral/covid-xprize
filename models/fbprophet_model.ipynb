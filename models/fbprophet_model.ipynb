{
  "nbformat": 4,
  "nbformat_minor": 0,
  "metadata": {
    "colab": {
      "name": "fbprophet_model.ipynb",
      "private_outputs": true,
      "provenance": [],
      "collapsed_sections": []
    },
    "kernelspec": {
      "name": "python3",
      "display_name": "Python 3"
    }
  },
  "cells": [
    {
      "cell_type": "code",
      "metadata": {
        "id": "Cyu2D1H7fMwq"
      },
      "source": [
        "from fbprophet import Prophet\r\n",
        "import pandas as pd\r\n",
        "from fbprophet.plot import plot_plotly, plot_components_plotly\r\n",
        "import plotly.graph_objects as go"
      ],
      "execution_count": null,
      "outputs": []
    },
    {
      "cell_type": "code",
      "metadata": {
        "id": "qFa62u-EfRaF"
      },
      "source": [
        "def get_covid_data():\r\n",
        "    \r\n",
        "    #get the latest data from OxCGRT\r\n",
        "    DATA_URL = 'https://raw.githubusercontent.com/OxCGRT/covid-policy-tracker/master/data/OxCGRT_latest.csv'\r\n",
        "    full_df = pd.read_csv(DATA_URL,\r\n",
        "                    parse_dates=['Date'],\r\n",
        "                    encoding=\"ISO-8859-1\",\r\n",
        "                    dtype={\"RegionName\": str},\r\n",
        "                    error_bad_lines=False)\r\n",
        "\r\n",
        "    #add new cases and new deaths columns\r\n",
        "\r\n",
        "    \r\n",
        "    for state in full_df[(full_df['Jurisdiction'] == 'STATE_TOTAL')]['RegionName'].unique():\r\n",
        "        state_inds = (full_df['Jurisdiction'] == 'STATE_TOTAL') & (full_df['RegionName'] == state)\r\n",
        "        full_df.loc[state_inds, 'NewCases'] = full_df.loc[state_inds, 'ConfirmedCases'].diff().fillna(0)\r\n",
        "        full_df.loc[state_inds, 'NewDeaths'] = full_df.loc[state_inds, 'ConfirmedDeaths'].diff().fillna(0)\r\n",
        "\r\n",
        "    for country in full_df[(full_df['Jurisdiction'] == 'NAT_TOTAL')]['CountryName'].unique():\r\n",
        "        nat_inds = (full_df['Jurisdiction'] == 'NAT_TOTAL') & (full_df['CountryName'] == country)\r\n",
        "        full_df.loc[nat_inds, 'NewCases'] = full_df.loc[nat_inds, 'ConfirmedCases'].diff().fillna(0)\r\n",
        "        full_df.loc[nat_inds, 'NewDeaths'] = full_df.loc[nat_inds, 'ConfirmedDeaths'].diff().fillna(0)\r\n",
        "\r\n",
        "    return full_df\r\n",
        "\r\n",
        "def mean_percent_error(y_test, y_hat):\r\n",
        "    error = np.abs(y_test - y_hat)\r\n",
        "    percent_error = error/y_test\r\n",
        "    mean_percent_error = percent_error.sum() / len(y_test)\r\n",
        "    return mean_percent_error\r\n",
        "\r\n",
        "def find_best_regressors(df, train_df, test_df):\r\n",
        "    todrop = [c for c in df.columns if c in ['ds','y','NewCases','NewDeaths', 'ConfirmedCases','ConfirmedDeaths']]\r\n",
        "    regressors = df.columns.drop(todrop)\r\n",
        "\r\n",
        "    keepers = []\r\n",
        "    trials = pd.DataFrame(columns = ['regressors','MAPE'])\r\n",
        "    improving = True\r\n",
        "    while improving:\r\n",
        "        best = None\r\n",
        "        improving = False\r\n",
        "\r\n",
        "        print(f'current keepers are {keepers}')\r\n",
        "        for regressor in regressors:\r\n",
        "            keepers.append(regressor)\r\n",
        "            m = pr.Prophet(seasonality_mode = 'multiplicative',\r\n",
        "                            yearly_seasonality = False, \r\n",
        "                            daily_seasonality = False, \r\n",
        "                            weekly_seasonality = True)\r\n",
        "            m.add_country_holidays(country_name='US')\r\n",
        "            for keeper in keepers:\r\n",
        "                m.add_regressor(keeper)\r\n",
        "            m.fit(train_df)\r\n",
        "            future = m.make_future_dataframe(periods=len(test_df))\r\n",
        "            future = pd.merge(future,df[['ds'] + keepers].reset_index(drop=True),how = 'outer', on = 'ds')\r\n",
        "            forecast = m.predict(future)\r\n",
        "            prophet_mape = mean_percent_error(test_df['y'].values, forecast['yhat'][-len(test_df):].values)\r\n",
        "            trials = trials.append({'regressors':f'{keepers}','MAPE':prophet_mape}, ignore_index=True)\r\n",
        "            #MAPE has improved\r\n",
        "            if prophet_mape == trials['MAPE'].min():\r\n",
        "                improving = True\r\n",
        "                best = regressor\r\n",
        "            keepers.pop()\r\n",
        "        if best:\r\n",
        "            keepers.append(best)\r\n",
        "        if improving:\r\n",
        "            regressors = regressors.drop(best)\r\n",
        "    return keepers"
      ],
      "execution_count": null,
      "outputs": []
    },
    {
      "cell_type": "code",
      "metadata": {
        "id": "SV80jCl-5TuH"
      },
      "source": [
        "division = 'state'\r\n",
        "region = 'Washington'\r\n",
        "prediction = 'ConfirmedCases'\r\n",
        "\r\n",
        "full_df = get_covid_data()\r\n",
        "if division == 'country':\r\n",
        "    df = full_df[(full_df['Jurisdiction'] == 'NAT_TOTAL') & (full_df['CountryName'] == region)][:-1]\r\n",
        "elif division == 'state':\r\n",
        "    df = full_df[(full_df['Jurisdiction'] == 'STATE_TOTAL') & (full_df['RegionName'] == region)][:-1]\r\n",
        "\r\n",
        "df = df.iloc[:,5:]\r\n",
        "cols = [c for c in df.columns if (c.lower()[-10:] != 'fordisplay') and (c.lower()[-4:] != 'flag')]\r\n",
        "df = df[cols]\r\n",
        "df = df.dropna(how='all')\r\n",
        "df = df.fillna(method = 'ffill')\r\n",
        "df = df.fillna(0)\r\n",
        "df = df.rename(columns = {'Date':'ds',prediction:'y'})\r\n",
        "train_df = df[df['ds'] < '2020-12-01'].reset_index(drop=True)\r\n",
        "test_df = df[df['ds'] >= '2020-12-01'].reset_index(drop=True)\r\n",
        "df"
      ],
      "execution_count": null,
      "outputs": []
    },
    {
      "cell_type": "code",
      "metadata": {
        "id": "8pVMI0WPLMPR"
      },
      "source": [
        "keepers = find_best_regressors(df, train_df, test_df)\r\n",
        "m = Prophet(seasonality_mode = 'multiplicative',\r\n",
        "                yearly_seasonality = False, \r\n",
        "                daily_seasonality = False, \r\n",
        "                weekly_seasonality = True)\r\n",
        "m.add_country_holidays(country_name='US')\r\n",
        "for keeper in keepers:\r\n",
        "    m.add_regressor(keeper)\r\n",
        "m.fit(train_df)\r\n",
        "future = m.make_future_dataframe(periods=len(test_df))\r\n",
        "future = pd.merge(future,df[['ds'] + keepers].reset_index(drop=True),how = 'outer', on = 'ds')\r\n",
        "forecast = m.predict(future)\r\n",
        "prophet_mape = mean_percent_error(test_df['y'].values, forecast['yhat'][-len(test_df):].values)\r\n",
        "print(f'MAPE is {prophet_mape}')\r\n",
        "\r\n",
        "\r\n",
        "fig = plot_plotly(m, forecast, changepoints = True, xlabel=\"Date\", ylabel=prediction)\r\n",
        "fig.add_trace(go.Scatter(x=test_df['ds'], y=test_df['y'], \r\n",
        "                         mode = 'markers',\r\n",
        "                         marker=go.scatter.Marker(color='green', size = 4),\r\n",
        "                         name = f'True'\r\n",
        "                         ))\r\n",
        "fig.layout.title = {'text': f'True and Predicted {prediction}'}\r\n",
        "fig.show()"
      ],
      "execution_count": null,
      "outputs": []
    },
    {
      "cell_type": "code",
      "metadata": {
        "id": "38q4pxrAcW-P"
      },
      "source": [
        "fig = plot_plotly(m, forecast, changepoints = True, xlabel=\"Date\", ylabel=prediction)\r\n",
        "fig.add_trace(go.Scatter(x=test_df['ds'], y=test_df['y'], \r\n",
        "                         mode = 'markers',\r\n",
        "                         marker=go.scatter.Marker(color='green', size = 4),\r\n",
        "                         name = f'True'\r\n",
        "                         ))\r\n",
        "fig.layout.title = {'text': f'True and Predicted {prediction}'}\r\n",
        "print(type(fig))\r\n",
        "fig.show()"
      ],
      "execution_count": null,
      "outputs": []
    },
    {
      "cell_type": "markdown",
      "metadata": {
        "id": "P8CHuE9DcW4C"
      },
      "source": [
        ""
      ]
    },
    {
      "cell_type": "code",
      "metadata": {
        "id": "YUNYraIesl4P"
      },
      "source": [
        "plot_components_plotly(m, forecast)"
      ],
      "execution_count": null,
      "outputs": []
    },
    {
      "cell_type": "code",
      "metadata": {
        "id": "ng4JGp7M5KK8"
      },
      "source": [
        ""
      ],
      "execution_count": null,
      "outputs": []
    }
  ]
}