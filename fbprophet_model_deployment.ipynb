{
  "nbformat": 4,
  "nbformat_minor": 0,
  "metadata": {
    "colab": {
      "name": "fbprophet_model.ipynb",
      "private_outputs": true,
      "provenance": [],
      "collapsed_sections": [],
      "authorship_tag": "ABX9TyOAAFjb7r1bVwdX8EkP/aiQ"
    },
    "kernelspec": {
      "name": "python3",
      "display_name": "Python 3"
    }
  },
  "cells": [
    {
      "cell_type": "code",
      "metadata": {
        "id": "Cyu2D1H7fMwq"
      },
      "source": [
        "import fbprophet as pr\r\n",
        "import pandas as pd\r\n",
        "import numpy as np\r\n",
        "import matplotlib.pyplot as plt\r\n",
        "import folium\r\n",
        "from sklearn.metrics import mean_squared_error\r\n",
        "from statsmodels.tsa.statespace.sarimax import SARIMAX\r\n",
        "import plotly\r\n",
        "import plotly.express as px\r\n",
        "import plotly.graph_objects as go"
      ],
      "execution_count": null,
      "outputs": []
    },
    {
      "cell_type": "code",
      "metadata": {
        "id": "qFa62u-EfRaF"
      },
      "source": [
        "def get_covid_data():\r\n",
        "    \r\n",
        "    #get the latest data from OxCGRT\r\n",
        "    DATA_URL = 'https://raw.githubusercontent.com/OxCGRT/covid-policy-tracker/master/data/OxCGRT_latest.csv'\r\n",
        "    full_df = pd.read_csv(DATA_URL,\r\n",
        "                    parse_dates=['Date'],\r\n",
        "                    encoding=\"ISO-8859-1\",\r\n",
        "                    dtype={\"RegionName\": str},\r\n",
        "                    error_bad_lines=False)\r\n",
        "\r\n",
        "    #add new cases and new deaths columns\r\n",
        "\r\n",
        "    for state in full_df[(full_df['Jurisdiction'] == 'STATE_TOTAL')]['RegionName'].unique():\r\n",
        "        state_inds = (full_df['Jurisdiction'] == 'STATE_TOTAL') & (full_df['RegionName'] == state)\r\n",
        "        full_df.loc[state_inds, 'NewCases'] = full_df.loc[state_inds, 'ConfirmedCases'].diff().fillna(0)\r\n",
        "        full_df.loc[state_inds, 'NewDeaths'] = full_df.loc[state_inds, 'ConfirmedDeaths'].diff().fillna(0)\r\n",
        "\r\n",
        "    for country in full_df[(full_df['Jurisdiction'] == 'NAT_TOTAL')]['CountryName'].unique():\r\n",
        "        nat_inds = (full_df['Jurisdiction'] == 'NAT_TOTAL') & (full_df['CountryName'] == country)\r\n",
        "        full_df.loc[nat_inds, 'NewCases'] = full_df.loc[nat_inds, 'ConfirmedCases'].diff().fillna(0)\r\n",
        "        full_df.loc[nat_inds, 'NewDeaths'] = full_df.loc[nat_inds, 'ConfirmedDeaths'].diff().fillna(0)\r\n",
        "\r\n",
        "    return full_df\r\n",
        "\r\n",
        "def get_region(df, division, region):\r\n",
        "    if division == 'state':\r\n",
        "        df = full_df[(full_df['Jurisdiction'] == 'STATE_TOTAL') & (full_df['RegionName'] == region)][:-1]\r\n",
        "    elif division == 'country':\r\n",
        "        df = full_df[(full_df['Jurisdiction'] == 'NAT_TOTAL') & (full_df['CountryName'] == region)][:-1]\r\n",
        "    else: \r\n",
        "        print('Please specify \"state\" or \"country\" division')\r\n",
        "    nans = df.isna().sum()\r\n",
        "    columns = nans[nans <= 21].index\r\n",
        "    df = df[columns]\r\n",
        "    df.loc[df.Date == '2020-01-01', ['ConfirmedCases','ConfirmedDeaths']] = 0\r\n",
        "    df = df.fillna(method = 'ffill')\r\n",
        "    return df\r\n",
        "\r\n",
        "def mean_percent_error(y_test, y_hat):\r\n",
        "    error = np.abs(y_test - y_hat)\r\n",
        "    percent_error = error/y_test\r\n",
        "    mean_percent_error = percent_error.sum() / len(y_test)\r\n",
        "    return mean_percent_error"
      ],
      "execution_count": null,
      "outputs": []
    },
    {
      "cell_type": "code",
      "metadata": {
        "id": "WF-eno0P-ZqG"
      },
      "source": [
        "def get_simple_covid_data():\r\n",
        "    \"\"\"\r\n",
        "    Download latest confirmed cases and deaths from Oxford by both states and countries.\r\n",
        "    Create new cases and new deaths columns as the running difference in the confirmed cases and deaths, which are cumulative.\r\n",
        "    return resulting dataframe\r\n",
        "    \"\"\"\r\n",
        "    #download latest data from Oxford\r\n",
        "    DATA_URL = 'https://raw.githubusercontent.com/OxCGRT/covid-policy-tracker/master/data/OxCGRT_latest.csv'\r\n",
        "    df = pd.read_csv(DATA_URL,\r\n",
        "                    parse_dates=['Date'],\r\n",
        "                    encoding=\"ISO-8859-1\",\r\n",
        "                    dtype={\"RegionName\": str},\r\n",
        "                    error_bad_lines=False,\r\n",
        "                    usecols = ['Date','Jurisdiction','RegionName','CountryName','ConfirmedCases','ConfirmedDeaths'])\r\n",
        " \r\n",
        "    #forward fill NaNs in confirmed cases and confirmed deaths columns\r\n",
        "    #if January 1st is NaN, set to 0\r\n",
        "    df.loc[(df.Date == '2020-01-01') & (df['ConfirmedCases'].isna()), 'ConfirmedCases'] = 0\r\n",
        "    df.loc[(df.Date == '2020-01-01') & (df['ConfirmedDeaths'].isna()), 'ConfirmedDeaths'] = 0\r\n",
        "    df[['ConfirmedCases','ConfirmedDeaths']] = df[['ConfirmedCases','ConfirmedDeaths']].fillna(method = 'ffill')\r\n",
        "\r\n",
        "    #add new cases and new deaths columns\r\n",
        "    for state in df[(df['Jurisdiction'] == 'STATE_TOTAL')]['RegionName'].unique():\r\n",
        "        state_inds = (df['Jurisdiction'] == 'STATE_TOTAL') & (df['RegionName'] == state)\r\n",
        "        df.loc[state_inds, 'NewCases'] = df.loc[state_inds, 'ConfirmedCases'].diff().fillna(0)\r\n",
        "        df.loc[state_inds, 'NewDeaths'] = df.loc[state_inds, 'ConfirmedDeaths'].diff().fillna(0)\r\n",
        "\r\n",
        "    for country in df[(df['Jurisdiction'] == 'NAT_TOTAL')]['CountryName'].unique():\r\n",
        "        nat_inds = (df['Jurisdiction'] == 'NAT_TOTAL') & (df['CountryName'] == country)\r\n",
        "        df.loc[nat_inds, 'NewCases'] = df.loc[nat_inds, 'ConfirmedCases'].diff().fillna(0)\r\n",
        "        df.loc[nat_inds, 'NewDeaths'] = df.loc[nat_inds, 'ConfirmedDeaths'].diff().fillna(0)\r\n",
        "        \r\n",
        "    return df"
      ],
      "execution_count": null,
      "outputs": []
    },
    {
      "cell_type": "code",
      "metadata": {
        "id": "HKx3S5mRBP-m"
      },
      "source": [
        "df = get_simple_covid_data()\r\n",
        "df"
      ],
      "execution_count": null,
      "outputs": []
    },
    {
      "cell_type": "code",
      "metadata": {
        "id": "vhNkrm5c8k9_"
      },
      "source": [
        "import pandas as pd\r\n",
        "from fbprophet import Prophet\r\n",
        "import os\r\n",
        "\r\n",
        "def get_simple_covid_data():\r\n",
        "    \"\"\"\r\n",
        "    Download latest confirmed cases and deaths from Oxford by both states and countries.\r\n",
        "    Create new cases and new deaths columns as the running difference in the confirmed cases and deaths, which are cumulative.\r\n",
        "    return resulting dataframe\r\n",
        "    \"\"\"\r\n",
        "    #download latest data from Oxford\r\n",
        "    DATA_URL = 'https://raw.githubusercontent.com/OxCGRT/covid-policy-tracker/master/data/OxCGRT_latest.csv'\r\n",
        "    df = pd.read_csv(DATA_URL,\r\n",
        "                    parse_dates=['Date'],\r\n",
        "                    encoding=\"ISO-8859-1\",\r\n",
        "                    dtype={\"RegionName\": str},\r\n",
        "                    error_bad_lines=False,\r\n",
        "                    usecols = ['Date','Jurisdiction','RegionName','CountryName','ConfirmedCases','ConfirmedDeaths'])\r\n",
        " \r\n",
        "    #forward fill NaNs in confirmed cases and confirmed deaths columns\r\n",
        "    #if January 1st is NaN, set to 0\r\n",
        "    df.loc[(df.Date == '2020-01-01') & (df['ConfirmedCases'].isna()), 'ConfirmedCases'] = 0\r\n",
        "    df.loc[(df.Date == '2020-01-01') & (df['ConfirmedDeaths'].isna()), 'ConfirmedDeaths'] = 0\r\n",
        "    df[['ConfirmedCases','ConfirmedDeaths']] = df[['ConfirmedCases','ConfirmedDeaths']].fillna(method = 'ffill')\r\n",
        "\r\n",
        "    #add new cases and new deaths columns\r\n",
        "    for state in df[(df['Jurisdiction'] == 'STATE_TOTAL')]['RegionName'].unique():\r\n",
        "        state_inds = (df['Jurisdiction'] == 'STATE_TOTAL') & (df['RegionName'] == state)\r\n",
        "        df.loc[state_inds, 'NewCases'] = df.loc[state_inds, 'ConfirmedCases'].diff().fillna(0)\r\n",
        "        df.loc[state_inds, 'NewDeaths'] = df.loc[state_inds, 'ConfirmedDeaths'].diff().fillna(0)\r\n",
        "\r\n",
        "    for country in df[(df['Jurisdiction'] == 'NAT_TOTAL')]['CountryName'].unique():\r\n",
        "        nat_inds = (df['Jurisdiction'] == 'NAT_TOTAL') & (df['CountryName'] == country)\r\n",
        "        df.loc[nat_inds, 'NewCases'] = df.loc[nat_inds, 'ConfirmedCases'].diff().fillna(0)\r\n",
        "        df.loc[nat_inds, 'NewDeaths'] = df.loc[nat_inds, 'ConfirmedDeaths'].diff().fillna(0)\r\n",
        "        \r\n",
        "    return df\r\n",
        "\r\n",
        "def predict(country='United States', state = None, days_ahead=30, predict='cases', output_folder = None,\r\n",
        "            rolling_mean = True):\r\n",
        "    \r\n",
        "    #retrieve latest covif data\r\n",
        "    df = get_simple_covid_data()\r\n",
        "    \r\n",
        "    #subset df by country and state.  Defaults if no regional info is passed is all of United States\r\n",
        "    df = df[df['CountryName'] == country]\r\n",
        "    if state:\r\n",
        "        df = df[(df['CountryName'] == country)\r\n",
        "        & (df['Jurisdiction'] == 'STATE_TOTAL')\r\n",
        "        & (df['RegionName'] == state)]\r\n",
        "    else: \r\n",
        "        df = df[(df['Jurisdiction'] == 'NAT_TOTAL') & (df['CountryName'] == country)]\r\n",
        "    \r\n",
        "    if predict == 'deaths':\r\n",
        "        df = df[['Date','NewDeaths']].rename(columns = {'Date':'ds','NewDeaths':'y'})\r\n",
        "    else:\r\n",
        "        df = df[['Date','NewCases']].rename(columns = {'Date':'ds','NewCases':'y'})\r\n",
        "\r\n",
        "    #create forecast using Facebook Prophet\r\n",
        "    m = Prophet(seasonality_mode = 'multiplicative',\r\n",
        "                yearly_seasonality = False,\r\n",
        "                daily_seasonality = False,\r\n",
        "                weekly_seasonality = True)\r\n",
        "    m.add_country_holidays(country_name='US')\r\n",
        "    m.fit(df)\r\n",
        "    future = m.make_future_dataframe(periods=days_ahead)\r\n",
        "    forecast = m.predict(future)[['ds','yhat']].tail(days_ahead)\r\n",
        "\r\n",
        "    #save forecast as JSON\r\n",
        "    os.makedirs(os.path.dirname(output_folder), exist_ok=True)\r\n",
        "    output_file_path = os.path.join(output_folder,'prediction.json')\r\n",
        "    if rolling_mean:\r\n",
        "        forecast['yhat'] = forecast['yhat'].rolling(window=7).mean()\r\n",
        "    forecast.to_json(output_file_path, orient='table', index=False)\r\n",
        "\r\n",
        "    #create graph of forecasted cases\r\n",
        "    fig = forecast.plot(x='ds', y='yhat', ylim = (0,forecast['yhat'].max()*1.1),\r\n",
        "                        title = f'Predicted {days_ahead} Day Rolling Average',\r\n",
        "                        xlabel = 'Date', ylabel = predict.title())\r\n",
        "    output_image_path = os.path.join(output_folder,'prediction_graph.png')\r\n",
        "\r\n",
        "    plt.savefig(output_image_path)\r\n",
        "    return forecast"
      ],
      "execution_count": null,
      "outputs": []
    },
    {
      "cell_type": "code",
      "metadata": {
        "id": "f6aw7LN-JyDY"
      },
      "source": [
        "forecast = predict(\r\n",
        "                   output_folder = '/content')\r\n",
        "forecast"
      ],
      "execution_count": null,
      "outputs": []
    },
    {
      "cell_type": "code",
      "metadata": {
        "id": "2xtnDVyVQTKN"
      },
      "source": [
        ""
      ],
      "execution_count": null,
      "outputs": []
    }
  ]
}