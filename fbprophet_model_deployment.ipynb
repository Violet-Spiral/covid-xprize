{
 "cells": [
  {
   "cell_type": "code",
   "execution_count": null,
   "metadata": {
    "id": "Cyu2D1H7fMwq"
   },
   "outputs": [],
   "source": [
    "import fbprophet as pr\n",
    "import pandas as pd\n",
    "import numpy as np\n",
    "import matplotlib.pyplot as plt\n",
    "import folium\n",
    "from sklearn.metrics import mean_squared_error\n",
    "from statsmodels.tsa.statespace.sarimax import SARIMAX\n",
    "import plotly\n",
    "import plotly.express as px\n",
    "import plotly.graph_objects as go"
   ]
  },
  {
   "cell_type": "code",
   "execution_count": null,
   "metadata": {
    "id": "qFa62u-EfRaF"
   },
   "outputs": [],
   "source": [
    "def get_covid_data():\n",
    "    \n",
    "    #get the latest data from OxCGRT\n",
    "    DATA_URL = 'https://raw.githubusercontent.com/OxCGRT/covid-policy-tracker/master/data/OxCGRT_latest.csv'\n",
    "    full_df = pd.read_csv(DATA_URL,\n",
    "                    parse_dates=['Date'],\n",
    "                    encoding=\"ISO-8859-1\",\n",
    "                    dtype={\"RegionName\": str},\n",
    "                    error_bad_lines=False)\n",
    "\n",
    "    #add new cases and new deaths columns\n",
    "\n",
    "    for state in full_df[(full_df['Jurisdiction'] == 'STATE_TOTAL')]['RegionName'].unique():\n",
    "        state_inds = (full_df['Jurisdiction'] == 'STATE_TOTAL') & (full_df['RegionName'] == state)\n",
    "        full_df.loc[state_inds, 'NewCases'] = full_df.loc[state_inds, 'ConfirmedCases'].diff().fillna(0)\n",
    "        full_df.loc[state_inds, 'NewDeaths'] = full_df.loc[state_inds, 'ConfirmedDeaths'].diff().fillna(0)\n",
    "\n",
    "    for country in full_df[(full_df['Jurisdiction'] == 'NAT_TOTAL')]['CountryName'].unique():\n",
    "        nat_inds = (full_df['Jurisdiction'] == 'NAT_TOTAL') & (full_df['CountryName'] == country)\n",
    "        full_df.loc[nat_inds, 'NewCases'] = full_df.loc[nat_inds, 'ConfirmedCases'].diff().fillna(0)\n",
    "        full_df.loc[nat_inds, 'NewDeaths'] = full_df.loc[nat_inds, 'ConfirmedDeaths'].diff().fillna(0)\n",
    "\n",
    "    return full_df\n",
    "\n",
    "def get_region(df, division, region):\n",
    "    if division == 'state':\n",
    "        df = full_df[(full_df['Jurisdiction'] == 'STATE_TOTAL') & (full_df['RegionName'] == region)][:-1]\n",
    "    elif division == 'country':\n",
    "        df = full_df[(full_df['Jurisdiction'] == 'NAT_TOTAL') & (full_df['CountryName'] == region)][:-1]\n",
    "    else: \n",
    "        print('Please specify \"state\" or \"country\" division')\n",
    "    nans = df.isna().sum()\n",
    "    columns = nans[nans <= 21].index\n",
    "    df = df[columns]\n",
    "    df.loc[df.Date == '2020-01-01', ['ConfirmedCases','ConfirmedDeaths']] = 0\n",
    "    df = df.fillna(method = 'ffill')\n",
    "    return df\n",
    "\n",
    "def mean_percent_error(y_test, y_hat):\n",
    "    error = np.abs(y_test - y_hat)\n",
    "    percent_error = error/y_test\n",
    "    mean_percent_error = percent_error.sum() / len(y_test)\n",
    "    return mean_percent_error"
   ]
  },
  {
   "cell_type": "code",
   "execution_count": null,
   "metadata": {
    "id": "WF-eno0P-ZqG"
   },
   "outputs": [],
   "source": [
    "def get_simple_covid_data():\n",
    "    \"\"\"\n",
    "    Download latest confirmed cases and deaths from Oxford by both states and countries.\n",
    "    Create new cases and new deaths columns as the running difference in the confirmed cases and deaths, which are cumulative.\n",
    "    return resulting dataframe\n",
    "    \"\"\"\n",
    "    #download latest data from Oxford\n",
    "    DATA_URL = 'https://raw.githubusercontent.com/OxCGRT/covid-policy-tracker/master/data/OxCGRT_latest.csv'\n",
    "    df = pd.read_csv(DATA_URL,\n",
    "                    parse_dates=['Date'],\n",
    "                    encoding=\"ISO-8859-1\",\n",
    "                    dtype={\"RegionName\": str},\n",
    "                    error_bad_lines=False,\n",
    "                    usecols = ['Date','Jurisdiction','RegionName','CountryName','ConfirmedCases','ConfirmedDeaths'])\n",
    " \n",
    "    #forward fill NaNs in confirmed cases and confirmed deaths columns\n",
    "    #if January 1st is NaN, set to 0\n",
    "    df.loc[(df.Date == '2020-01-01') & (df['ConfirmedCases'].isna()), 'ConfirmedCases'] = 0\n",
    "    df.loc[(df.Date == '2020-01-01') & (df['ConfirmedDeaths'].isna()), 'ConfirmedDeaths'] = 0\n",
    "    df[['ConfirmedCases','ConfirmedDeaths']] = df[['ConfirmedCases','ConfirmedDeaths']].fillna(method = 'ffill')\n",
    "\n",
    "    #add new cases and new deaths columns\n",
    "    for state in df[(df['Jurisdiction'] == 'STATE_TOTAL')]['RegionName'].unique():\n",
    "        state_inds = (df['Jurisdiction'] == 'STATE_TOTAL') & (df['RegionName'] == state)\n",
    "        df.loc[state_inds, 'NewCases'] = df.loc[state_inds, 'ConfirmedCases'].diff().fillna(0)\n",
    "        df.loc[state_inds, 'NewDeaths'] = df.loc[state_inds, 'ConfirmedDeaths'].diff().fillna(0)\n",
    "\n",
    "    for country in df[(df['Jurisdiction'] == 'NAT_TOTAL')]['CountryName'].unique():\n",
    "        nat_inds = (df['Jurisdiction'] == 'NAT_TOTAL') & (df['CountryName'] == country)\n",
    "        df.loc[nat_inds, 'NewCases'] = df.loc[nat_inds, 'ConfirmedCases'].diff().fillna(0)\n",
    "        df.loc[nat_inds, 'NewDeaths'] = df.loc[nat_inds, 'ConfirmedDeaths'].diff().fillna(0)\n",
    "        \n",
    "    return df"
   ]
  },
  {
   "cell_type": "code",
   "execution_count": null,
   "metadata": {
    "id": "HKx3S5mRBP-m"
   },
   "outputs": [],
   "source": [
    "df = get_simple_covid_data()\n",
    "df"
   ]
  },
  {
   "cell_type": "code",
   "execution_count": null,
   "metadata": {
    "id": "vhNkrm5c8k9_"
   },
   "outputs": [],
   "source": [
    "import pandas as pd\n",
    "from fbprophet import Prophet\n",
    "import os\n",
    "\n",
    "def get_simple_covid_data():\n",
    "    \"\"\"\n",
    "    Download latest confirmed cases and deaths from Oxford by both states and countries.\n",
    "    Create new cases and new deaths columns as the running difference in the confirmed cases and deaths, which are cumulative.\n",
    "    return resulting dataframe\n",
    "    \"\"\"\n",
    "    #download latest data from Oxford\n",
    "    DATA_URL = 'https://raw.githubusercontent.com/OxCGRT/covid-policy-tracker/master/data/OxCGRT_latest.csv'\n",
    "    df = pd.read_csv(DATA_URL,\n",
    "                    parse_dates=['Date'],\n",
    "                    encoding=\"ISO-8859-1\",\n",
    "                    dtype={\"RegionName\": str},\n",
    "                    error_bad_lines=False,\n",
    "                    usecols = ['Date','Jurisdiction','RegionName','CountryName','ConfirmedCases','ConfirmedDeaths'])\n",
    " \n",
    "    #forward fill NaNs in confirmed cases and confirmed deaths columns\n",
    "    #if January 1st is NaN, set to 0\n",
    "    df.loc[(df.Date == '2020-01-01') & (df['ConfirmedCases'].isna()), 'ConfirmedCases'] = 0\n",
    "    df.loc[(df.Date == '2020-01-01') & (df['ConfirmedDeaths'].isna()), 'ConfirmedDeaths'] = 0\n",
    "    df[['ConfirmedCases','ConfirmedDeaths']] = df[['ConfirmedCases','ConfirmedDeaths']].fillna(method = 'ffill')\n",
    "\n",
    "    #add new cases and new deaths columns\n",
    "    for state in df[(df['Jurisdiction'] == 'STATE_TOTAL')]['RegionName'].unique():\n",
    "        state_inds = (df['Jurisdiction'] == 'STATE_TOTAL') & (df['RegionName'] == state)\n",
    "        df.loc[state_inds, 'NewCases'] = df.loc[state_inds, 'ConfirmedCases'].diff().fillna(0)\n",
    "        df.loc[state_inds, 'NewDeaths'] = df.loc[state_inds, 'ConfirmedDeaths'].diff().fillna(0)\n",
    "\n",
    "    for country in df[(df['Jurisdiction'] == 'NAT_TOTAL')]['CountryName'].unique():\n",
    "        nat_inds = (df['Jurisdiction'] == 'NAT_TOTAL') & (df['CountryName'] == country)\n",
    "        df.loc[nat_inds, 'NewCases'] = df.loc[nat_inds, 'ConfirmedCases'].diff().fillna(0)\n",
    "        df.loc[nat_inds, 'NewDeaths'] = df.loc[nat_inds, 'ConfirmedDeaths'].diff().fillna(0)\n",
    "        \n",
    "    return df\n",
    "\n",
    "def predict(country='United States', state = None, days_ahead=30, predict='cases', output_folder = None,\n",
    "            rolling_mean = True):\n",
    "    \n",
    "    #retrieve latest covif data\n",
    "    df = get_simple_covid_data()\n",
    "    \n",
    "    #subset df by country and state.  Defaults if no regional info is passed is all of United States\n",
    "    df = df[df['CountryName'] == country]\n",
    "    if state:\n",
    "        df = df[(df['CountryName'] == country)\n",
    "        & (df['Jurisdiction'] == 'STATE_TOTAL')\n",
    "        & (df['RegionName'] == state)]\n",
    "    else: \n",
    "        df = df[(df['Jurisdiction'] == 'NAT_TOTAL') & (df['CountryName'] == country)]\n",
    "    \n",
    "    if predict == 'deaths':\n",
    "        df = df[['Date','NewDeaths']].rename(columns = {'Date':'ds','NewDeaths':'y'})\n",
    "    else:\n",
    "        df = df[['Date','NewCases']].rename(columns = {'Date':'ds','NewCases':'y'})\n",
    "\n",
    "    #create forecast using Facebook Prophet\n",
    "    m = Prophet(seasonality_mode = 'multiplicative',\n",
    "                yearly_seasonality = False,\n",
    "                daily_seasonality = False,\n",
    "                weekly_seasonality = True)\n",
    "    m.add_country_holidays(country_name='US')\n",
    "    m.fit(df)\n",
    "    future = m.make_future_dataframe(periods=days_ahead)\n",
    "    forecast = m.predict(future)[['ds','yhat']].tail(days_ahead)\n",
    "\n",
    "    #save forecast as JSON\n",
    "    os.makedirs(os.path.dirname(output_folder), exist_ok=True)\n",
    "    output_file_path = os.path.join(output_folder,'prediction.json')\n",
    "    if rolling_mean:\n",
    "        forecast['yhat'] = forecast['yhat'].rolling(window=7).mean()\n",
    "    forecast.to_json(output_file_path, orient='table', index=False)\n",
    "\n",
    "    #create graph of forecasted cases\n",
    "    fig = forecast.plot(x='ds', y='yhat', ylim = (0,forecast['yhat'].max()*1.1),\n",
    "                        title = f'Predicted {days_ahead} Day Rolling Average',\n",
    "                        xlabel = 'Date', ylabel = predict.title())\n",
    "    output_image_path = os.path.join(output_folder,'prediction_graph.png')\n",
    "\n",
    "    plt.savefig(output_image_path)\n",
    "    return forecast"
   ]
  },
  {
   "cell_type": "code",
   "execution_count": null,
   "metadata": {
    "id": "f6aw7LN-JyDY"
   },
   "outputs": [],
   "source": [
    "forecast = predict(\n",
    "                   output_folder = '/content')\n",
    "forecast"
   ]
  },
  {
   "cell_type": "code",
   "execution_count": null,
   "metadata": {
    "id": "2xtnDVyVQTKN"
   },
   "outputs": [],
   "source": []
  }
 ],
 "metadata": {
  "colab": {
   "authorship_tag": "ABX9TyOAAFjb7r1bVwdX8EkP/aiQ",
   "collapsed_sections": [],
   "name": "fbprophet_model.ipynb",
   "private_outputs": true,
   "provenance": []
  },
  "kernelspec": {
   "display_name": "Python 3",
   "language": "python",
   "name": "python3"
  },
  "language_info": {
   "codemirror_mode": {
    "name": "ipython",
    "version": 3
   },
   "file_extension": ".py",
   "mimetype": "text/x-python",
   "name": "python",
   "nbconvert_exporter": "python",
   "pygments_lexer": "ipython3",
   "version": "3.8.3"
  }
 },
 "nbformat": 4,
 "nbformat_minor": 1
}
